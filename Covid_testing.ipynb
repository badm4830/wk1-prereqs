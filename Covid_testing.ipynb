{
  "nbformat": 4,
  "nbformat_minor": 0,
  "metadata": {
    "kernelspec": {
      "name": "python3",
      "display_name": "Python 3.7",
      "language": "python"
    },
    "language_info": {
      "name": "python",
      "version": "3.7.10",
      "mimetype": "text/x-python",
      "codemirror_mode": {
        "name": "ipython",
        "version": 3
      },
      "pygments_lexer": "ipython3",
      "nbconvert_exporter": "python",
      "file_extension": ".py"
    },
    "colab": {
      "name": "Covid testing.ipynb",
      "provenance": [],
      "include_colab_link": true
    }
  },
  "cells": [
    {
      "cell_type": "markdown",
      "metadata": {
        "id": "view-in-github",
        "colab_type": "text"
      },
      "source": [
        "<a href=\"https://colab.research.google.com/github/badm4830/wk1-prereqs/blob/main/Covid_testing.ipynb\" target=\"_parent\"><img src=\"https://colab.research.google.com/assets/colab-badge.svg\" alt=\"Open In Colab\"/></a>"
      ]
    },
    {
      "cell_type": "markdown",
      "metadata": {
        "collapsed": true,
        "id": "oB0f6dgNQcSv"
      },
      "source": [
        "Model Metrics"
      ]
    },
    {
      "cell_type": "markdown",
      "metadata": {
        "id": "4JTrXz5bQcS2"
      },
      "source": [
        "\n",
        "You predict six people will get coronavirus."
      ]
    },
    {
      "cell_type": "code",
      "metadata": {
        "id": "sYlbyEFHQcS2"
      },
      "source": [
        "y_pred = [0, 0, 0, 0, 1, 1, 1, 1, 1, 1]"
      ],
      "execution_count": 1,
      "outputs": []
    },
    {
      "cell_type": "markdown",
      "metadata": {
        "id": "Y3XmzlNfQcS5"
      },
      "source": [
        "By the end of season, you find only five people had coronavirus."
      ]
    },
    {
      "cell_type": "code",
      "metadata": {
        "id": "m0yxct35QcS6"
      },
      "source": [
        "y_true = [0, 0, 0, 0, 0, 1, 1, 1, 1, 1]"
      ],
      "execution_count": 2,
      "outputs": []
    },
    {
      "cell_type": "markdown",
      "metadata": {
        "id": "g0DZtJz3QcS8"
      },
      "source": [
        "\n",
        "We create a confusion matrix."
      ]
    },
    {
      "cell_type": "code",
      "metadata": {
        "id": "To1LpHLMQcS9"
      },
      "source": [
        "from sklearn.metrics import confusion_matrix\n",
        "from sklearn.metrics import classification_report\n",
        "\n",
        "tn, fp, fn, tp = confusion_matrix(y_true, y_pred).ravel()"
      ],
      "execution_count": 3,
      "outputs": []
    },
    {
      "cell_type": "markdown",
      "metadata": {
        "id": "K_UW8Bi-QcS-"
      },
      "source": [
        "\n",
        "Disply the confusion matrix (here is the confusion matrix: TP = 5, TN = 4, FP = 1, FN = 0)."
      ]
    },
    {
      "cell_type": "code",
      "metadata": {
        "colab": {
          "base_uri": "https://localhost:8080/"
        },
        "id": "Xn_CHrFEQcS-",
        "outputId": "e41b8822-da78-4f1f-86ec-8f2859daccaf"
      },
      "source": [
        "# You can make the confusion matrix less confusing by adding labels:\n",
        "print('Here is our confusion matrix.')\n",
        "\n",
        "import pandas as pd\n",
        "cmtx = pd.DataFrame(\n",
        "    confusion_matrix(y_true, y_pred, labels=[1, 0]), \n",
        "    index=['true:1', 'true:0'], \n",
        "    columns=['pred:1', 'pred:0']\n",
        ")\n",
        "print(cmtx)"
      ],
      "execution_count": 4,
      "outputs": [
        {
          "output_type": "stream",
          "text": [
            "Here is our confusion matrix.\n",
            "        pred:1  pred:0\n",
            "true:1       5       0\n",
            "true:0       1       4\n"
          ],
          "name": "stdout"
        }
      ]
    },
    {
      "cell_type": "code",
      "metadata": {
        "colab": {
          "base_uri": "https://localhost:8080/"
        },
        "id": "ZFOZbhc-QcS_",
        "outputId": "cda856aa-34cb-4e79-f6f3-01a8278e6e68"
      },
      "source": [
        "\n",
        "# Print a classification report\n",
        "print(classification_report(y_true,y_pred))"
      ],
      "execution_count": 5,
      "outputs": [
        {
          "output_type": "stream",
          "text": [
            "              precision    recall  f1-score   support\n",
            "\n",
            "           0       1.00      0.80      0.89         5\n",
            "           1       0.83      1.00      0.91         5\n",
            "\n",
            "    accuracy                           0.90        10\n",
            "   macro avg       0.92      0.90      0.90        10\n",
            "weighted avg       0.92      0.90      0.90        10\n",
            "\n"
          ],
          "name": "stdout"
        }
      ]
    },
    {
      "cell_type": "markdown",
      "metadata": {
        "id": "GSdt61l5QcTB"
      },
      "source": [
        "We calculate the percentage of sick people who are correctly identified as having the condition (also called sensitivity)."
      ]
    },
    {
      "cell_type": "code",
      "metadata": {
        "colab": {
          "base_uri": "https://localhost:8080/"
        },
        "id": "Fk9N6R84QcTD",
        "outputId": "0b4bb20f-8774-4e9e-a63d-cf2be4f206ed"
      },
      "source": [
        "\n",
        "sensitivity = tp / (tp+fn)\n",
        "print('The percentage of sick people who are correctly identified as having the condition')\n",
        "print('Sensitivity : %7.3f %%' % (sensitivity*100),'\\n')"
      ],
      "execution_count": 6,
      "outputs": [
        {
          "output_type": "stream",
          "text": [
            "The percentage of sick people who are correctly identified as having the condition\n",
            "Sensitivity : 100.000 % \n",
            "\n"
          ],
          "name": "stdout"
        }
      ]
    },
    {
      "cell_type": "markdown",
      "metadata": {
        "id": "-S8vHAWVQcTE"
      },
      "source": [
        "\n",
        "We also the percentage of healthy people who are correctly identified as not having the condition (also called specificity)."
      ]
    },
    {
      "cell_type": "code",
      "metadata": {
        "colab": {
          "base_uri": "https://localhost:8080/"
        },
        "id": "PsU96-z-QcTE",
        "outputId": "cabde5ba-dae2-4242-c050-b560d3476f31"
      },
      "source": [
        "\n",
        "specificity = tn / (tn+fp)\n",
        "print('The percentage of healthy people who are correctly identified as not having the condition')\n",
        "print('Specificity : %7.3f %%' % (specificity*100))"
      ],
      "execution_count": 7,
      "outputs": [
        {
          "output_type": "stream",
          "text": [
            "The percentage of healthy people who are correctly identified as not having the condition\n",
            "Specificity :  80.000 %\n"
          ],
          "name": "stdout"
        }
      ]
    },
    {
      "cell_type": "markdown",
      "metadata": {
        "id": "QQm-4zwiQcTE"
      },
      "source": [
        "Next, we calculate the precision of this algorithm."
      ]
    },
    {
      "cell_type": "code",
      "metadata": {
        "colab": {
          "base_uri": "https://localhost:8080/"
        },
        "id": "XmsnywIvQcTF",
        "outputId": "2a249510-6a60-4623-c8df-00a233f28b17"
      },
      "source": [
        "\n",
        "from sklearn.metrics import precision_score\n",
        "print('The ratio of properly predicted positive clarifications to the total predicted positive clarifications.')\n",
        "print(precision_score(y_true, y_pred, average=None))"
      ],
      "execution_count": 8,
      "outputs": [
        {
          "output_type": "stream",
          "text": [
            "The ratio of properly predicted positive clarifications to the total predicted positive clarifications.\n",
            "[1.         0.83333333]\n"
          ],
          "name": "stdout"
        }
      ]
    },
    {
      "cell_type": "markdown",
      "metadata": {
        "id": "jNqa1ljAQcTG"
      },
      "source": [
        "The our algorithm can 100% predict ‘no-coronavirus’ but only 80% ‘coronavirus’ cases correctly.\n",
        "\n",
        "We calculate the probability that records with a negative predicted result truly should be negative (called NPV metric)."
      ]
    },
    {
      "cell_type": "code",
      "metadata": {
        "colab": {
          "base_uri": "https://localhost:8080/"
        },
        "id": "NIY0uQ2UQcTH",
        "outputId": "efb7b8da-35e2-45b0-f93d-a22f50011e04"
      },
      "source": [
        "\n",
        "npv = tn / (tn+fn)\n",
        "print('The probability that records with a negative predicted result truly should be negative: %7.3f %%' % (npv*100))"
      ],
      "execution_count": 9,
      "outputs": [
        {
          "output_type": "stream",
          "text": [
            "The probability that records with a negative predicted result truly should be negative: 100.000 %\n"
          ],
          "name": "stdout"
        }
      ]
    },
    {
      "cell_type": "markdown",
      "metadata": {
        "id": "8RfXb_OYQcTH"
      },
      "source": [
        "It shows that NPV = 100%, very good.\n",
        "\n",
        "We calculate the proportion of positives that yield negative prediction outcomes with the specific model (also called miss rate or FNR)."
      ]
    },
    {
      "cell_type": "code",
      "metadata": {
        "colab": {
          "base_uri": "https://localhost:8080/"
        },
        "id": "51LzUsO9QcTI",
        "outputId": "d7963ba6-a5a1-4e30-b952-22ebae95cfab"
      },
      "source": [
        "\n",
        "fnr = fp / (fn+tp)\n",
        "print('The proportion of positives that yield negative prediction outcomes with the specific model: %7.3f %%' % (fnr*100))"
      ],
      "execution_count": 10,
      "outputs": [
        {
          "output_type": "stream",
          "text": [
            "The proportion of positives that yield negative prediction outcomes with the specific model:  20.000 %\n"
          ],
          "name": "stdout"
        }
      ]
    },
    {
      "cell_type": "markdown",
      "metadata": {
        "id": "ADeDER5KQcTI"
      },
      "source": [
        "It shows that 20% of the predicted positives are negative. It means 1 in 5 predicted negative outputs are positive. Not good, you will miss 1 in 5 patients.\n",
        "\n",
        "Finally, we calculate the false positive rate (also called FPR)."
      ]
    },
    {
      "cell_type": "code",
      "metadata": {
        "colab": {
          "base_uri": "https://localhost:8080/"
        },
        "id": "jyj60_skQcTI",
        "outputId": "0dbbb91e-2083-4428-e8eb-f6fcf0540abc"
      },
      "source": [
        "fdr = fp / (fp+tp)\n",
        "print('False discovery rate: %7.3f %%' % (fdr*100))"
      ],
      "execution_count": 11,
      "outputs": [
        {
          "output_type": "stream",
          "text": [
            "False discovery rate:  16.667 %\n"
          ],
          "name": "stdout"
        }
      ]
    },
    {
      "cell_type": "markdown",
      "metadata": {
        "id": "BSMOvUtIQcTJ"
      },
      "source": [
        "We calculate statistical bias, as these cause a difference between a result and a \"true\" value."
      ]
    },
    {
      "cell_type": "code",
      "metadata": {
        "colab": {
          "base_uri": "https://localhost:8080/"
        },
        "id": "UVxY7uC1QcTK",
        "outputId": "f0878a9b-8c53-4f79-ab79-2dd13233aaaa"
      },
      "source": [
        "acc = (tp + tn) / (tp + tn + fp + fn)\n",
        "print('Accuracy: %7.3f %%' % (acc*100))"
      ],
      "execution_count": 12,
      "outputs": [
        {
          "output_type": "stream",
          "text": [
            "Accuracy:  90.000 %\n"
          ],
          "name": "stdout"
        }
      ]
    },
    {
      "cell_type": "markdown",
      "metadata": {
        "id": "FQMD242pQcTK"
      },
      "source": [
        "\n",
        "This will be reported as 90% accuracy. This is a good outcome for our coronavirus model.\n",
        "\n",
        "Finally, we will calculate the ROC metric. Let assume score variable which stores the probability of your prediction as a value of random."
      ]
    },
    {
      "cell_type": "code",
      "metadata": {
        "id": "rhWePmiAQcTL"
      },
      "source": [
        "import numpy as np"
      ],
      "execution_count": 13,
      "outputs": []
    },
    {
      "cell_type": "code",
      "metadata": {
        "colab": {
          "base_uri": "https://localhost:8080/"
        },
        "id": "CzdENFlpQcTL",
        "outputId": "b5a2f02e-e873-42e0-caa9-550fd220fa61"
      },
      "source": [
        "n0, n1 = 5, 5\n",
        "score0 = np.random.rand(n0)/2\n",
        "label0 = np.zeros(n0, dtype = int)\n",
        "score1  = np.random.rand(n1)/2 + .2\n",
        "label1 = np.ones(n1, dtype = int)\n",
        "scores = np.concatenate((score0, score1))\n",
        "\n",
        "print('True labels:')\n",
        "print(y_true)\n",
        "print('\\nScores:')\n",
        "print(scores)"
      ],
      "execution_count": 15,
      "outputs": [
        {
          "output_type": "stream",
          "text": [
            "True labels:\n",
            "[0, 0, 0, 0, 0, 1, 1, 1, 1, 1]\n",
            "\n",
            "Scores:\n",
            "[0.36136117 0.14978822 0.31375401 0.31316861 0.36092322 0.68696405\n",
            " 0.61202774 0.35152114 0.49335508 0.22429071]\n"
          ],
          "name": "stdout"
        }
      ]
    },
    {
      "cell_type": "code",
      "metadata": {
        "colab": {
          "base_uri": "https://localhost:8080/"
        },
        "id": "LBx7Wal2QcTM",
        "outputId": "5c49152d-f734-485d-ffdb-399d35e78421"
      },
      "source": [
        "from sklearn.metrics import roc_curve, auc\n",
        "fpr, tpr, thresholds = roc_curve(y_true, scores, pos_label = 1)\n",
        "print('Thresholds:')\n",
        "print(thresholds)"
      ],
      "execution_count": 16,
      "outputs": [
        {
          "output_type": "stream",
          "text": [
            "Thresholds:\n",
            "[1.68696405 0.68696405 0.49335508 0.36092322 0.35152114 0.31316861\n",
            " 0.22429071 0.14978822]\n"
          ],
          "name": "stdout"
        }
      ]
    },
    {
      "cell_type": "code",
      "metadata": {
        "colab": {
          "base_uri": "https://localhost:8080/"
        },
        "id": "sshmrfjKQcTM",
        "outputId": "23637d1a-025d-4166-8cad-581a4082ee2f"
      },
      "source": [
        "\n",
        "print('False Positive Rate:')\n",
        "print(fpr)"
      ],
      "execution_count": 17,
      "outputs": [
        {
          "output_type": "stream",
          "text": [
            "False Positive Rate:\n",
            "[0.  0.  0.  0.4 0.4 0.8 0.8 1. ]\n"
          ],
          "name": "stdout"
        }
      ]
    },
    {
      "cell_type": "code",
      "metadata": {
        "colab": {
          "base_uri": "https://localhost:8080/"
        },
        "id": "MGuvLyXeQcTN",
        "outputId": "df0812d5-cf38-4090-c992-3cce54d86eb9"
      },
      "source": [
        "print('True Positive Rate:')\n",
        "tpr"
      ],
      "execution_count": 18,
      "outputs": [
        {
          "output_type": "stream",
          "text": [
            "True Positive Rate:\n"
          ],
          "name": "stdout"
        },
        {
          "output_type": "execute_result",
          "data": {
            "text/plain": [
              "array([0. , 0.2, 0.6, 0.6, 0.8, 0.8, 1. , 1. ])"
            ]
          },
          "metadata": {
            "tags": []
          },
          "execution_count": 18
        }
      ]
    },
    {
      "cell_type": "code",
      "metadata": {
        "colab": {
          "base_uri": "https://localhost:8080/",
          "height": 295
        },
        "id": "hmm6KYROQcTO",
        "outputId": "ac1cf276-701c-4c56-bec2-c15b4c2ffa5d"
      },
      "source": [
        "\n",
        "import matplotlib.pyplot as plt\n",
        "from itertools import cycle\n",
        "plt.figure()\n",
        "lw = 2\n",
        "plt.plot(fpr, tpr, color='darkorange',\n",
        "         lw=lw, label='ROC curve (area = %0.2f)' % auc(fpr, tpr))\n",
        "plt.plot([0, 1], [0, 1], color='navy', lw=lw, linestyle='--')\n",
        "plt.xlim([0.0, 1.0])\n",
        "plt.ylim([0.0, 1.05])\n",
        "plt.xlabel('False Positive Rate')\n",
        "plt.ylabel('True Positive Rate')\n",
        "plt.title('Receiver operating characteristic example')\n",
        "plt.legend(loc=\"lower right\")\n",
        "plt.show()"
      ],
      "execution_count": 19,
      "outputs": [
        {
          "output_type": "display_data",
          "data": {
            "image/png": "[encoded data removed]",
            "text/plain": [
              "<Figure size 432x288 with 1 Axes>"
            ]
          },
          "metadata": {
            "tags": [],
            "needs_background": "light"
          }
        }
      ]
    },
    {
      "cell_type": "markdown",
      "metadata": {
        "id": "Ooi_0-fQQcTO"
      },
      "source": [
        "it shows that TPR is approximately equal to FPR. In some case, TPR is higher than FPR, it is good."
      ]
    },
    {
      "cell_type": "code",
      "metadata": {
        "id": "VzNGzuqYQcTO"
      },
      "source": [
        ""
      ],
      "execution_count": null,
      "outputs": []
    }
  ]
}